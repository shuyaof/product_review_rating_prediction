{
 "cells": [
  {
   "cell_type": "markdown",
   "metadata": {
    "id": "DStHbYjMVgkB",
    "toc": true
   },
   "source": [
    "<h1>Table of Contents<span class=\"tocSkip\"></span></h1>\n",
    "<div class=\"toc\"><ul class=\"toc-item\"><li><span><a href=\"#Dataset-Overview\" data-toc-modified-id=\"Dataset-Overview-1\"><span class=\"toc-item-num\">1&nbsp;&nbsp;</span>Dataset Overview</a></span></li><li><span><a href=\"#Part-A:-Data-Preprocessing\" data-toc-modified-id=\"Part-A:-Data-Preprocessing-2\"><span class=\"toc-item-num\">2&nbsp;&nbsp;</span>Part A: Data Preprocessing</a></span></li><li><span><a href=\"#Part-B:-Exploratory-Data-Analysis\" data-toc-modified-id=\"Part-B:-Exploratory-Data-Analysis-3\"><span class=\"toc-item-num\">3&nbsp;&nbsp;</span>Part B: Exploratory Data Analysis</a></span></li><li><span><a href=\"#Part-C:-Feature-Construction\" data-toc-modified-id=\"Part-C:-Feature-Construction-4\"><span class=\"toc-item-num\">4&nbsp;&nbsp;</span>Part C: Feature Construction</a></span></li><li><span><a href=\"#Part-D:-Model-Training-and-Evaluation\" data-toc-modified-id=\"Part-D:-Model-Training-and-Evaluation-5\"><span class=\"toc-item-num\">5&nbsp;&nbsp;</span>Part D: Model Training and Evaluation</a></span></li><li><span><a href=\"#Part-E:-Model-Deployment\" data-toc-modified-id=\"Part-E:-Model-Deployment-6\"><span class=\"toc-item-num\">6&nbsp;&nbsp;</span>Part E: Model Deployment</a></span><ul class=\"toc-item\"><li><span><a href=\"#Deployment-specification\" data-toc-modified-id=\"Deployment-specification-6.1\"><span class=\"toc-item-num\">6.1&nbsp;&nbsp;</span>Deployment specification</a></span></li></ul></li><li><span><a href=\"#Part-F:-Follow-up-questions\" data-toc-modified-id=\"Part-F:-Follow-up-questions-7\"><span class=\"toc-item-num\">7&nbsp;&nbsp;</span>Part F: Follow-up questions</a></span></li></ul></div>"
   ]
  },
  {
   "cell_type": "markdown",
   "metadata": {
    "nteract": {
     "transient": {
      "deleting": false
     }
    }
   },
   "source": [
    "# Final Exam Project: Amazon Review Rating Prediction\n",
    "\n",
    "In this project, you are provided with a dataset of [Amazon product reviews](https://s3.amazonaws.com/amazon-reviews-pds/readme.html). You will apply what you have learned in this course to analyze the dataset and build a predictive model of review ratings. Your deliverables consist of:\n",
    "\n",
    "1. **scoring_uri.txt**. After training your model, you will deploy it to a public endpoint on Azure, similar to what you did in Project 6 and 7. Your endpoint URI should be included in this file. The autograder will send test data to your endpoint and evaluate the accuracy of your model's predictions. This part is worth 30 points.\n",
    "    * 15 points are awarded when your model is deployed successfully. The autograder will send a request to your deployed URI, then check that the status code is 200 and the response JSON is correctly formatted.\n",
    "    * 15 points are awarded when your deployed model also meets the accuracy requirement. The grader will compare your predicted labels with the ground truth labels to determine the accuracy score.\n",
    "1. **This notebook**. While the autograder will **not** be running your code, there are a number of follow-up questions in Part F that you should answer. **You are encouraged to look at these questions before you start coding.** These are manually graded and worth 40 points.\n",
    "1. **references**. Include your reference sources here.\n",
    "\n",
    "In each of the following sections, we will provide some high-level suggestions. You are free to decide on your implementations, or choose a different direction. You can also import any Python package that you find useful, or reuse any of the code you had written in prior projects (remember to mention any reused code in the `references` file).\n",
    "\n",
    "One point to keep in mind as you begin planning your data processing pipeline is that any processing object that has been fit on the training data (e.g., sklearn's `TfidfVectorizer` or `LogisticRegression`) should later be saved to pickle files and included in the deployment step, so that you can use them to transform or predict the test data. See Section 1 in the [Model deployment primer](https://nbviewer.jupyter.org/url/clouddatascience.blob.core.windows.net/primers/machine-learning-azure-primer/azure_model_deployment_primer.ipynb) on the common pitfalls in loading custom functions or classes in the Azure deployment environment. Note that it is possible to complete every task in this exam without defining any custom function."
   ]
  },
  {
   "cell_type": "markdown",
   "metadata": {
    "id": "EdnvjvKyVgkG"
   },
   "source": [
    "We start by importing some basic packages. Feel free to remove or add any others as you progress through the tasks."
   ]
  },
  {
   "cell_type": "markdown",
   "metadata": {
    "id": "E6UZTAsCiaEg"
   },
   "source": [
    "## Dataset Overview\n",
    "Our dataset is included in the tab-delimited file `amazon_reviews.tsv`. Here is a brief description of the dataframe columns:\n",
    "\n",
    "<br>\n",
    "\n",
    "| Column name \t| Description \t|\n",
    "|-\t|-\t|\n",
    "| marketplace \t| 2 letter country code of the marketplace where the review was written. \t|\n",
    "| customer_id \t| Random identifier that can be used to aggregate reviews written by a single author. \t|\n",
    "| review_id \t| The unique ID of the review. \t|\n",
    "| product_id \t| The unique Product ID the review pertains to. In the multilingual dataset the reviews for the same product in different countries can be grouped by the same product_id. \t|\n",
    "| product_parent \t| Random identifier that can be used to aggregate reviews for the same product. \t|\n",
    "| product_title \t| Title of the product. \t|\n",
    "| product_category \t| Broad product category that can be used to group reviews (also used to group the dataset into coherent parts). \t|\n",
    "| helpful_votes \t| Number of helpful votes. \t|\n",
    "| total_votes \t| Number of total votes the review received. \t|\n",
    "| vine \t| Review was written as part of the Vine program. \t|\n",
    "| verified_purchase \t| The review is on a verified purchase. \t|\n",
    "| review_headline \t| The title of the review. \t|\n",
    "| review_body \t| The review text. \t|\n",
    "| review_date \t| The date the review was written. \t|\n",
    "| **star_rating** \t| The 1-5 star rating of the review. \t|\n",
    "\n",
    "<br>\n",
    "\n",
    "The column which we will need to predict is `star_rating`, which contains integer values from 1 to 5 (inclusive). While the nature of this problem is ordinal regression, for simplicity in this project, we will only treat it as a multi-class classification problem. In other words, we assume each review is associated with one label (1, 2, 3, 4 or 5), and attempt to predict a review's label based on its content and metadata.\n",
    "\n",
    "We provide the starting code to read the data for you. Note that there are some malformed rows in the original tsv file, so we set `error_bad_lines` to `False`."
   ]
  },
  {
   "cell_type": "code",
   "execution_count": 1,
   "metadata": {
    "gather": {
     "logged": 1691698866693
    },
    "jupyter": {
     "outputs_hidden": false,
     "source_hidden": false
    },
    "nteract": {
     "transient": {
      "deleting": false
     }
    }
   },
   "outputs": [],
   "source": [
    "import pickle, re, requests, json, os\n",
    "import numpy as np\n",
    "import pandas as pd\n",
    "import matplotlib.pyplot as plt\n",
    "import seaborn as sns\n",
    "\n",
    "import nltk\n",
    "from nltk.tokenize import word_tokenize\n",
    "from nltk.corpus import stopwords\n",
    "from nltk.stem import PorterStemmer\n",
    "from nltk.stem import WordNetLemmatizer\n",
    "\n",
    "nltk.download(\"stopwords\", quiet = True)\n",
    "nltk.download(\"wordnet\", quiet = True)\n",
    "nltk.download(\"punkt\", quiet = True)\n",
    "\n",
    "from sklearn.feature_extraction.text import CountVectorizer, TfidfVectorizer\n",
    "from sklearn.model_selection import train_test_split, StratifiedKFold\n",
    "from sklearn.linear_model import LogisticRegression\n",
    "from sklearn.svm import LinearSVC\n",
    "from sklearn.metrics import accuracy_score\n",
    "\n",
    "import warnings\n",
    "warnings.filterwarnings('ignore')"
   ]
  },
  {
   "cell_type": "code",
   "execution_count": 2,
   "metadata": {
    "gather": {
     "logged": 1691698871884
    },
    "id": "-hmcEyHWVgkI"
   },
   "outputs": [],
   "source": [
    "def read_data():\n",
    "    return pd.read_csv(\"amazon_reviews.tsv\", sep=\"\\t\", header=0, error_bad_lines=False, dtype={\n",
    "        \"marketplace\": str,\n",
    "        \"customer_id\":str,\n",
    "        \"review_id\":str,\n",
    "        \"product_id\":str,\n",
    "        \"product_parent\":str,\n",
    "        \"product_title\":str,\n",
    "        \"product_category\":str,\n",
    "        \"star_rating\":int,\n",
    "        \"helpful_votes\":int,\n",
    "        \"total_votes\":int,\n",
    "        \"vine\":str,\n",
    "        \"verified_purchase\":str,\n",
    "        \"review_headline\":str,\n",
    "        \"review_body\":str,\n",
    "        \"review_date\":str\n",
    "    })\n",
    "\n",
    "df_reviews = read_data()"
   ]
  },
  {
   "cell_type": "markdown",
   "metadata": {
    "id": "fAwc7CV8iaFn"
   },
   "source": [
    "## Part A: Data Preprocessing\n",
    "Since this project only involves review rating prediction, you can remove the following irrelevant features:\n",
    "\n",
    "* `marketplace`\n",
    "* `customer_id`\n",
    "* `review_id`\n",
    "* `product_id`\n",
    "* `product_parent`\n",
    "* `product_category`(since all the products belong to the same category)\n",
    "* `review_date`\n",
    "\n",
    "The primary rating predictor will be the review content (i.e., `review_body`). We suggest you perform the following preprocessing tasks from **Project 4** on `review_body`.\n",
    "* Remove all html tags.\n",
    "* Clean punctuations and special characters.\n",
    "* Apply lower casing.\n",
    "* Tokenize the content, then apply stemming or lemmatization to each token.\n",
    "* Remove English stopwords."
   ]
  },
  {
   "cell_type": "code",
   "execution_count": 3,
   "metadata": {
    "colab": {
     "base_uri": "https://localhost:8080/",
     "height": 206
    },
    "gather": {
     "logged": 1691698877761
    },
    "id": "unOuenPWVgkJ",
    "outputId": "cdfd4e54-098c-4e34-bdc9-228e4571b42c"
   },
   "outputs": [],
   "source": [
    "# Remove unnessasary columns\n",
    "columns_to_drop = ['marketplace', 'customer_id','review_id','product_id','product_parent','product_category','review_date']\n",
    "df = df_reviews.drop(columns=columns_to_drop)\n",
    "df_test = df.head(5)\n"
   ]
  },
  {
   "cell_type": "code",
   "execution_count": 4,
   "metadata": {},
   "outputs": [],
   "source": [
    "# Define high and low ratings\n",
    "def classify_rating(row):\n",
    "    if row['star_rating'] >= 4:\n",
    "        return 'high'\n",
    "    elif row['star_rating'] <= 2:\n",
    "        return 'low'\n",
    "    else:\n",
    "        return 'mid'\n",
    "\n",
    "df['class'] = df.apply(classify_rating, axis=1)"
   ]
  },
  {
   "cell_type": "code",
   "execution_count": 5,
   "metadata": {},
   "outputs": [
    {
     "data": {
      "text/plain": [
       "class\n",
       "high    63.793222\n",
       "low     68.628296\n",
       "mid     82.850289\n",
       "Name: word_count, dtype: float64"
      ]
     },
     "execution_count": 5,
     "metadata": {},
     "output_type": "execute_result"
    }
   ],
   "source": [
    "# Count word per review\n",
    "df['word_count'] = [len(review.split()) for review in df['review_body']]\n",
    "result = df.groupby('class')['word_count'].mean()\n",
    "result"
   ]
  },
  {
   "cell_type": "code",
   "execution_count": 6,
   "metadata": {
    "gather": {
     "logged": 1691699060526
    },
    "id": "bezgsTjoZsYk"
   },
   "outputs": [
    {
     "name": "stderr",
     "output_type": "stream",
     "text": [
      "[nltk_data] Downloading package omw-1.4 to\n",
      "[nltk_data]     /Users/shuyaof/Desktop/nltk_data...\n",
      "[nltk_data]   Package omw-1.4 is already up-to-date!\n"
     ]
    }
   ],
   "source": [
    "import nltk\n",
    "nltk.download('omw-1.4')\n",
    "\n",
    "\n",
    "def process_text(text):\n",
    "    # Removing HTML tags\n",
    "    clean_text = re.sub(r'<.*?>', '', text)\n",
    "    \n",
    "    # Removing punctuations and special characters\n",
    "    clean_text = re.sub(r'[^\\w\\s]', '', clean_text)\n",
    "    clean_text = clean_text.lower()\n",
    "    \n",
    "    # Tokenizing\n",
    "    tokens = word_tokenize(clean_text)\n",
    "    \n",
    "    # Stemming\n",
    "    stemmer = PorterStemmer()\n",
    "    stemmed_tokens = [stemmer.stem(token) for token in tokens]\n",
    "    \n",
    "    # Lemmatizing\n",
    "    lemmatizer = WordNetLemmatizer()\n",
    "    lemmatized_tokens = [lemmatizer.lemmatize(token) for token in stemmed_tokens]\n",
    "    \n",
    "    # Removing stopwords\n",
    "    stop_words = set(stopwords.words('english'))\n",
    "    filtered_words = [word for word in lemmatized_tokens if word not in stop_words]\n",
    "    \n",
    "    return ' '.join(filtered_words)\n",
    "\n",
    "# Applying data cleaning steps to the 'review_body' column\n",
    "df['review_body'] = df['review_body'].apply(process_text)"
   ]
  },
  {
   "cell_type": "markdown",
   "metadata": {
    "id": "dHCAFt5qwOPh"
   },
   "source": [
    "## Part B: Exploratory Data Analysis\n",
    "You should investigate the feature and label distributions in your exploratory data analysis. A good starting point is the techniques and tools from **Project 3**, in particular the Pandas Profiler library. Pay attention to rows with missing data or outliers, and think about whether to include or remove them. In case the rating distribution is highly imbalanced, you may also consider oversampling the minority classes (i.e., making random copies of the rows with the minority classes) to get a more balanced sample. However, oversampling should only be performed in part D on the training data only, after you have performed a train-test split."
   ]
  },
  {
   "cell_type": "code",
   "execution_count": 8,
   "metadata": {
    "colab": {
     "base_uri": "https://localhost:8080/",
     "height": 300
    },
    "gather": {
     "logged": 1691690068792
    },
    "id": "fcwYmnX3VgkK",
    "outputId": "9697542e-82f1-4aaa-e10a-135ac404590e"
   },
   "outputs": [
    {
     "data": {
      "text/html": [
       "<div>\n",
       "<style scoped>\n",
       "    .dataframe tbody tr th:only-of-type {\n",
       "        vertical-align: middle;\n",
       "    }\n",
       "\n",
       "    .dataframe tbody tr th {\n",
       "        vertical-align: top;\n",
       "    }\n",
       "\n",
       "    .dataframe thead th {\n",
       "        text-align: right;\n",
       "    }\n",
       "</style>\n",
       "<table border=\"1\" class=\"dataframe\">\n",
       "  <thead>\n",
       "    <tr style=\"text-align: right;\">\n",
       "      <th></th>\n",
       "      <th>star_rating</th>\n",
       "      <th>helpful_votes</th>\n",
       "      <th>total_votes</th>\n",
       "      <th>word_count</th>\n",
       "    </tr>\n",
       "  </thead>\n",
       "  <tbody>\n",
       "    <tr>\n",
       "      <th>count</th>\n",
       "      <td>99909.000000</td>\n",
       "      <td>99909.000000</td>\n",
       "      <td>99909.000000</td>\n",
       "      <td>99909.000000</td>\n",
       "    </tr>\n",
       "    <tr>\n",
       "      <th>mean</th>\n",
       "      <td>3.898818</td>\n",
       "      <td>1.496962</td>\n",
       "      <td>1.934190</td>\n",
       "      <td>66.404318</td>\n",
       "    </tr>\n",
       "    <tr>\n",
       "      <th>std</th>\n",
       "      <td>1.462946</td>\n",
       "      <td>10.741559</td>\n",
       "      <td>11.758621</td>\n",
       "      <td>103.423045</td>\n",
       "    </tr>\n",
       "    <tr>\n",
       "      <th>min</th>\n",
       "      <td>1.000000</td>\n",
       "      <td>0.000000</td>\n",
       "      <td>0.000000</td>\n",
       "      <td>1.000000</td>\n",
       "    </tr>\n",
       "    <tr>\n",
       "      <th>25%</th>\n",
       "      <td>3.000000</td>\n",
       "      <td>0.000000</td>\n",
       "      <td>0.000000</td>\n",
       "      <td>21.000000</td>\n",
       "    </tr>\n",
       "    <tr>\n",
       "      <th>50%</th>\n",
       "      <td>5.000000</td>\n",
       "      <td>0.000000</td>\n",
       "      <td>0.000000</td>\n",
       "      <td>36.000000</td>\n",
       "    </tr>\n",
       "    <tr>\n",
       "      <th>75%</th>\n",
       "      <td>5.000000</td>\n",
       "      <td>1.000000</td>\n",
       "      <td>1.000000</td>\n",
       "      <td>75.000000</td>\n",
       "    </tr>\n",
       "    <tr>\n",
       "      <th>max</th>\n",
       "      <td>5.000000</td>\n",
       "      <td>1219.000000</td>\n",
       "      <td>1234.000000</td>\n",
       "      <td>3367.000000</td>\n",
       "    </tr>\n",
       "  </tbody>\n",
       "</table>\n",
       "</div>"
      ],
      "text/plain": [
       "        star_rating  helpful_votes   total_votes    word_count\n",
       "count  99909.000000   99909.000000  99909.000000  99909.000000\n",
       "mean       3.898818       1.496962      1.934190     66.404318\n",
       "std        1.462946      10.741559     11.758621    103.423045\n",
       "min        1.000000       0.000000      0.000000      1.000000\n",
       "25%        3.000000       0.000000      0.000000     21.000000\n",
       "50%        5.000000       0.000000      0.000000     36.000000\n",
       "75%        5.000000       1.000000      1.000000     75.000000\n",
       "max        5.000000    1219.000000   1234.000000   3367.000000"
      ]
     },
     "execution_count": 8,
     "metadata": {},
     "output_type": "execute_result"
    }
   ],
   "source": [
    "## YOUR EXPLORATORY DATA ANALYSIS CODE HERE ##\n",
    "df.describe()"
   ]
  },
  {
   "cell_type": "code",
   "execution_count": 9,
   "metadata": {
    "colab": {
     "base_uri": "https://localhost:8080/"
    },
    "gather": {
     "logged": 1691683970012
    },
    "id": "p0Y47fP964ha",
    "outputId": "1d5e5ed9-f21e-490f-c6f8-7da4d50c31d8"
   },
   "outputs": [
    {
     "data": {
      "image/png": "[encoded data removed]",
      "text/plain": [
       "<Figure size 640x480 with 1 Axes>"
      ]
     },
     "metadata": {},
     "output_type": "display_data"
    }
   ],
   "source": [
    "star_rating_counts = df['star_rating'].value_counts()\n",
    "star_rating_counts = star_rating_counts.sort_index()\n",
    "\n",
    "# Plotting the value counts as a bar plot\n",
    "star_rating_counts.plot.bar()\n",
    "plt.xlabel('Star Rating')\n",
    "plt.ylabel('Count')\n",
    "plt.title('Distribution of Star Ratings')\n",
    "plt.xticks(rotation=0)\n",
    "plt.show()\n"
   ]
  },
  {
   "cell_type": "code",
   "execution_count": 10,
   "metadata": {
    "colab": {
     "base_uri": "https://localhost:8080/"
    },
    "gather": {
     "logged": 1691683970169
    },
    "id": "6oWriGpfzxb6",
    "outputId": "76460b2c-c28f-409d-8432-7d4fa6436973"
   },
   "outputs": [
    {
     "data": {
      "text/plain": [
       "product_title        0\n",
       "star_rating          0\n",
       "helpful_votes        0\n",
       "total_votes          0\n",
       "vine                 0\n",
       "verified_purchase    0\n",
       "review_headline      0\n",
       "review_body          0\n",
       "class                0\n",
       "word_count           0\n",
       "dtype: int64"
      ]
     },
     "execution_count": 10,
     "metadata": {},
     "output_type": "execute_result"
    }
   ],
   "source": [
    "# Check for missing data\n",
    "missing_data = df.isnull().sum()\n",
    "missing_data"
   ]
  },
  {
   "cell_type": "code",
   "execution_count": 11,
   "metadata": {
    "colab": {
     "base_uri": "https://localhost:8080/",
     "height": 466
    },
    "gather": {
     "logged": 1691683970455
    },
    "id": "rJm7YRal3G9d",
    "outputId": "9edb4652-725d-4600-f768-7c08fbb91a51"
   },
   "outputs": [
    {
     "data": {
      "text/plain": [
       "Text(0, 0.5, 'Total Votes')"
      ]
     },
     "execution_count": 11,
     "metadata": {},
     "output_type": "execute_result"
    },
    {
     "data": {
      "image/png": "[encoded data removed]",
      "text/plain": [
       "<Figure size 640x480 with 1 Axes>"
      ]
     },
     "metadata": {},
     "output_type": "display_data"
    }
   ],
   "source": [
    "# Number of helpful_votes are in a linear relationship with total votes\n",
    "plt.scatter(df['helpful_votes'], df['total_votes'])\n",
    "plt.xlabel('Helpful Votes')\n",
    "plt.ylabel('Total Votes')"
   ]
  },
  {
   "cell_type": "code",
   "execution_count": 12,
   "metadata": {
    "colab": {
     "base_uri": "https://localhost:8080/",
     "height": 467
    },
    "gather": {
     "logged": 1691683970720
    },
    "id": "dwyeFGLY1EX2",
    "outputId": "54497dd7-808c-4564-ba3c-f762df5a5fd3"
   },
   "outputs": [
    {
     "data": {
      "text/plain": [
       "<AxesSubplot:xlabel='star_rating'>"
      ]
     },
     "execution_count": 12,
     "metadata": {},
     "output_type": "execute_result"
    },
    {
     "data": {
      "image/png": "[encoded data removed]",
      "text/plain": [
       "<Figure size 640x480 with 1 Axes>"
      ]
     },
     "metadata": {},
     "output_type": "display_data"
    }
   ],
   "source": [
    "# boxplot for the star rating column\n",
    "sns.boxplot(x=df['star_rating'])"
   ]
  },
  {
   "cell_type": "markdown",
   "metadata": {
    "id": "Ee81YQd_2Stp"
   },
   "source": [
    "## Part C: Feature Construction\n",
    "The next task is to construct numerical features for prediction. We recommend starting with frequency-based features, such as TF and TF-IDF from **Project 5**, based on the review text content. To avoid potential memory issues, make sure to select the best data representation for your feature matrix. For example, TF-IDF matrices should be in sparse format, which you worked with in **Project 2**.\n",
    "\n",
    "Once you have finished the model deployment, feel free to revisit this section and experiment with other features (such as those from **Project 7**) to improve your model accuracy. Pay attention to how different data structures can be used to optimize feature construction (e.g., list vs set vs iterator), which you learned in **Project 1**."
   ]
  },
  {
   "cell_type": "code",
   "execution_count": 13,
   "metadata": {
    "gather": {
     "logged": 1691699077499
    },
    "jupyter": {
     "outputs_hidden": false,
     "source_hidden": false
    },
    "nteract": {
     "transient": {
      "deleting": false
     }
    }
   },
   "outputs": [],
   "source": [
    "def tfidf_vectorizer(reviews_train, reviews_test):\n",
    "    vectorizer = TfidfVectorizer(analyzer=str.split, tokenizer=str.split)\n",
    "    tfidf_vec_train = vectorizer.fit_transform(reviews_train)\n",
    "    tfidf_vec_test = vectorizer.transform(reviews_test)\n",
    "    features = vectorizer.get_feature_names_out().tolist()\n",
    "    return tfidf_vec_train, tfidf_vec_test, features, vectorizer"
   ]
  },
  {
   "cell_type": "markdown",
   "metadata": {
    "id": "RqarYE26atSi"
   },
   "source": [
    "## Part D: Model Training and Evaluation\n",
    "It is now time to train machine learning models to predict review ratings. Your goal in this part is to come up with a model that can achieve an **accuracy score of at least 0.60 on the test data**. Given the ground truth labels `y_true` and your predicted labels `y_pred` (each of which contains integer values from 1 to 5), the grader environment will compute the accuracy score as `sklearn.metrics.accuracy_score(y_true, y_pred)`.\n",
    "\n",
    "\n",
    "As a starting point, you can try out the classical learning algorithms supported by Sklearn:\n",
    "\n",
    "* Logistic regression\n",
    "* Support vector machine\n",
    "* K-nearest neighbor\n",
    "\n",
    "You can also experiment with some ensemble methods based on these classifiers, for example [voting classifier](https://scikit-learn.org/stable/modules/generated/sklearn.ensemble.VotingClassifier.html) or [boosting](https://scikit-learn.org/stable/modules/generated/sklearn.ensemble.GradientBoostingClassifier.html). You can tune the hyperparameters for each learning algorithm, using the cross validation process in **Project 5**, to identify the best fit model.\n",
    "\n",
    "**Notes**:\n",
    "* Similar to **Project 6**, your trained model will be evaluated on a secret test dataset. Its accuracy on this dataset will be shown in the Sail() Feedback view when you make a submission."
   ]
  },
  {
   "cell_type": "code",
   "execution_count": 14,
   "metadata": {
    "gather": {
     "logged": 1691698794830
    },
    "jupyter": {
     "outputs_hidden": false,
     "source_hidden": false
    },
    "nteract": {
     "transient": {
      "deleting": false
     }
    }
   },
   "outputs": [],
   "source": [
    "#  Train and test split of review body column\n",
    "reviews_train, reviews_test = train_test_split(df[\"review_body\"], test_size=0.20, random_state = 0)"
   ]
  },
  {
   "cell_type": "code",
   "execution_count": 15,
   "metadata": {
    "colab": {
     "base_uri": "https://localhost:8080/"
    },
    "gather": {
     "logged": 1691690105162
    },
    "id": "kQ1KLsLbPuyR",
    "outputId": "ce745be6-0ed5-466a-dea4-2ca6a85a9627"
   },
   "outputs": [],
   "source": [
    "# Experient parameters\n",
    "def predict_review_score(reviews, rating, model, k, seed=0):\n",
    "    global trained_model\n",
    "    rating = np.array(rating)\n",
    "    skf = StratifiedKFold(n_splits=k, random_state=seed, shuffle=True)\n",
    "    skfolds = skf.split(reviews, rating)\n",
    "\n",
    "    final_model = None\n",
    "    accuracies = []\n",
    "    for fold in skfolds:\n",
    "        test = fold[1]\n",
    "        train = fold[0]\n",
    "\n",
    "        tf_train, tf_test, features, vectorizer = tfidf_vectorizer(reviews[train], reviews[test])\n",
    "        if model == 'lr':\n",
    "            model = LogisticRegression(max_iter=100,multi_class='multinomial', solver='sag')\n",
    "        elif model =='svc':\n",
    "            model = LinearSVC(C=0.01, multi_class='ovr',class_weight=\"balanced\")\n",
    "            \n",
    "        model.fit(tf_train, rating[train])\n",
    "        y_pred = model.predict(tf_test)\n",
    "        accuracy = accuracy_score(rating[test], y_pred)\n",
    "        accuracies.append(accuracy) \n",
    "        final_model = model\n",
    "    return np.mean(accuracies), final_model\n",
    "\n",
    "mean_accuracy, trained_model = predict_review_score(df['review_body'], df['star_rating'], 'svc', 5, seed=0)"
   ]
  },
  {
   "cell_type": "code",
   "execution_count": 16,
   "metadata": {
    "gather": {
     "logged": 1691699129135
    },
    "jupyter": {
     "outputs_hidden": false
    },
    "nteract": {
     "transient": {
      "deleting": false
     }
    }
   },
   "outputs": [
    {
     "data": {
      "text/html": [
       "<style>#sk-container-id-1 {color: black;background-color: white;}#sk-container-id-1 pre{padding: 0;}#sk-container-id-1 div.sk-toggleable {background-color: white;}#sk-container-id-1 label.sk-toggleable__label {cursor: pointer;display: block;width: 100%;margin-bottom: 0;padding: 0.3em;box-sizing: border-box;text-align: center;}#sk-container-id-1 label.sk-toggleable__label-arrow:before {content: \"▸\";float: left;margin-right: 0.25em;color: #696969;}#sk-container-id-1 label.sk-toggleable__label-arrow:hover:before {color: black;}#sk-container-id-1 div.sk-estimator:hover label.sk-toggleable__label-arrow:before {color: black;}#sk-container-id-1 div.sk-toggleable__content {max-height: 0;max-width: 0;overflow: hidden;text-align: left;background-color: #f0f8ff;}#sk-container-id-1 div.sk-toggleable__content pre {margin: 0.2em;color: black;border-radius: 0.25em;background-color: #f0f8ff;}#sk-container-id-1 input.sk-toggleable__control:checked~div.sk-toggleable__content {max-height: 200px;max-width: 100%;overflow: auto;}#sk-container-id-1 input.sk-toggleable__control:checked~label.sk-toggleable__label-arrow:before {content: \"▾\";}#sk-container-id-1 div.sk-estimator input.sk-toggleable__control:checked~label.sk-toggleable__label {background-color: #d4ebff;}#sk-container-id-1 div.sk-label input.sk-toggleable__control:checked~label.sk-toggleable__label {background-color: #d4ebff;}#sk-container-id-1 input.sk-hidden--visually {border: 0;clip: rect(1px 1px 1px 1px);clip: rect(1px, 1px, 1px, 1px);height: 1px;margin: -1px;overflow: hidden;padding: 0;position: absolute;width: 1px;}#sk-container-id-1 div.sk-estimator {font-family: monospace;background-color: #f0f8ff;border: 1px dotted black;border-radius: 0.25em;box-sizing: border-box;margin-bottom: 0.5em;}#sk-container-id-1 div.sk-estimator:hover {background-color: #d4ebff;}#sk-container-id-1 div.sk-parallel-item::after {content: \"\";width: 100%;border-bottom: 1px solid gray;flex-grow: 1;}#sk-container-id-1 div.sk-label:hover label.sk-toggleable__label {background-color: #d4ebff;}#sk-container-id-1 div.sk-serial::before {content: \"\";position: absolute;border-left: 1px solid gray;box-sizing: border-box;top: 0;bottom: 0;left: 50%;z-index: 0;}#sk-container-id-1 div.sk-serial {display: flex;flex-direction: column;align-items: center;background-color: white;padding-right: 0.2em;padding-left: 0.2em;position: relative;}#sk-container-id-1 div.sk-item {position: relative;z-index: 1;}#sk-container-id-1 div.sk-parallel {display: flex;align-items: stretch;justify-content: center;background-color: white;position: relative;}#sk-container-id-1 div.sk-item::before, #sk-container-id-1 div.sk-parallel-item::before {content: \"\";position: absolute;border-left: 1px solid gray;box-sizing: border-box;top: 0;bottom: 0;left: 50%;z-index: -1;}#sk-container-id-1 div.sk-parallel-item {display: flex;flex-direction: column;z-index: 1;position: relative;background-color: white;}#sk-container-id-1 div.sk-parallel-item:first-child::after {align-self: flex-end;width: 50%;}#sk-container-id-1 div.sk-parallel-item:last-child::after {align-self: flex-start;width: 50%;}#sk-container-id-1 div.sk-parallel-item:only-child::after {width: 0;}#sk-container-id-1 div.sk-dashed-wrapped {border: 1px dashed gray;margin: 0 0.4em 0.5em 0.4em;box-sizing: border-box;padding-bottom: 0.4em;background-color: white;}#sk-container-id-1 div.sk-label label {font-family: monospace;font-weight: bold;display: inline-block;line-height: 1.2em;}#sk-container-id-1 div.sk-label-container {text-align: center;}#sk-container-id-1 div.sk-container {/* jupyter's `normalize.less` sets `[hidden] { display: none; }` but bootstrap.min.css set `[hidden] { display: none !important; }` so we also need the `!important` here to be able to override the default hidden behavior on the sphinx rendered scikit-learn.org. See: https://github.com/scikit-learn/scikit-learn/issues/21755 */display: inline-block !important;position: relative;}#sk-container-id-1 div.sk-text-repr-fallback {display: none;}</style><div id=\"sk-container-id-1\" class=\"sk-top-container\"><div class=\"sk-text-repr-fallback\"><pre>TfidfVectorizer(analyzer=&lt;method &#x27;split&#x27; of &#x27;str&#x27; objects&gt;,\n",
       "                tokenizer=&lt;method &#x27;split&#x27; of &#x27;str&#x27; objects&gt;)</pre><b>In a Jupyter environment, please rerun this cell to show the HTML representation or trust the notebook. <br />On GitHub, the HTML representation is unable to render, please try loading this page with nbviewer.org.</b></div><div class=\"sk-container\" hidden><div class=\"sk-item\"><div class=\"sk-estimator sk-toggleable\"><input class=\"sk-toggleable__control sk-hidden--visually\" id=\"sk-estimator-id-1\" type=\"checkbox\" checked><label for=\"sk-estimator-id-1\" class=\"sk-toggleable__label sk-toggleable__label-arrow\">TfidfVectorizer</label><div class=\"sk-toggleable__content\"><pre>TfidfVectorizer(analyzer=&lt;method &#x27;split&#x27; of &#x27;str&#x27; objects&gt;,\n",
       "                tokenizer=&lt;method &#x27;split&#x27; of &#x27;str&#x27; objects&gt;)</pre></div></div></div></div></div>"
      ],
      "text/plain": [
       "TfidfVectorizer(analyzer=<method 'split' of 'str' objects>,\n",
       "                tokenizer=<method 'split' of 'str' objects>)"
      ]
     },
     "execution_count": 16,
     "metadata": {},
     "output_type": "execute_result"
    }
   ],
   "source": [
    "# Fit entire dataset on the vectorizer\n",
    "tfidf_vectorizer = TfidfVectorizer(analyzer=str.split, tokenizer=str.split)\n",
    "tfidf_vectorizer.fit(df['review_body'])"
   ]
  },
  {
   "cell_type": "code",
   "execution_count": 17,
   "metadata": {
    "gather": {
     "logged": 1691699136444
    },
    "jupyter": {
     "outputs_hidden": false
    },
    "nteract": {
     "transient": {
      "deleting": false
     }
    }
   },
   "outputs": [
    {
     "data": {
      "text/html": [
       "<style>#sk-container-id-2 {color: black;background-color: white;}#sk-container-id-2 pre{padding: 0;}#sk-container-id-2 div.sk-toggleable {background-color: white;}#sk-container-id-2 label.sk-toggleable__label {cursor: pointer;display: block;width: 100%;margin-bottom: 0;padding: 0.3em;box-sizing: border-box;text-align: center;}#sk-container-id-2 label.sk-toggleable__label-arrow:before {content: \"▸\";float: left;margin-right: 0.25em;color: #696969;}#sk-container-id-2 label.sk-toggleable__label-arrow:hover:before {color: black;}#sk-container-id-2 div.sk-estimator:hover label.sk-toggleable__label-arrow:before {color: black;}#sk-container-id-2 div.sk-toggleable__content {max-height: 0;max-width: 0;overflow: hidden;text-align: left;background-color: #f0f8ff;}#sk-container-id-2 div.sk-toggleable__content pre {margin: 0.2em;color: black;border-radius: 0.25em;background-color: #f0f8ff;}#sk-container-id-2 input.sk-toggleable__control:checked~div.sk-toggleable__content {max-height: 200px;max-width: 100%;overflow: auto;}#sk-container-id-2 input.sk-toggleable__control:checked~label.sk-toggleable__label-arrow:before {content: \"▾\";}#sk-container-id-2 div.sk-estimator input.sk-toggleable__control:checked~label.sk-toggleable__label {background-color: #d4ebff;}#sk-container-id-2 div.sk-label input.sk-toggleable__control:checked~label.sk-toggleable__label {background-color: #d4ebff;}#sk-container-id-2 input.sk-hidden--visually {border: 0;clip: rect(1px 1px 1px 1px);clip: rect(1px, 1px, 1px, 1px);height: 1px;margin: -1px;overflow: hidden;padding: 0;position: absolute;width: 1px;}#sk-container-id-2 div.sk-estimator {font-family: monospace;background-color: #f0f8ff;border: 1px dotted black;border-radius: 0.25em;box-sizing: border-box;margin-bottom: 0.5em;}#sk-container-id-2 div.sk-estimator:hover {background-color: #d4ebff;}#sk-container-id-2 div.sk-parallel-item::after {content: \"\";width: 100%;border-bottom: 1px solid gray;flex-grow: 1;}#sk-container-id-2 div.sk-label:hover label.sk-toggleable__label {background-color: #d4ebff;}#sk-container-id-2 div.sk-serial::before {content: \"\";position: absolute;border-left: 1px solid gray;box-sizing: border-box;top: 0;bottom: 0;left: 50%;z-index: 0;}#sk-container-id-2 div.sk-serial {display: flex;flex-direction: column;align-items: center;background-color: white;padding-right: 0.2em;padding-left: 0.2em;position: relative;}#sk-container-id-2 div.sk-item {position: relative;z-index: 1;}#sk-container-id-2 div.sk-parallel {display: flex;align-items: stretch;justify-content: center;background-color: white;position: relative;}#sk-container-id-2 div.sk-item::before, #sk-container-id-2 div.sk-parallel-item::before {content: \"\";position: absolute;border-left: 1px solid gray;box-sizing: border-box;top: 0;bottom: 0;left: 50%;z-index: -1;}#sk-container-id-2 div.sk-parallel-item {display: flex;flex-direction: column;z-index: 1;position: relative;background-color: white;}#sk-container-id-2 div.sk-parallel-item:first-child::after {align-self: flex-end;width: 50%;}#sk-container-id-2 div.sk-parallel-item:last-child::after {align-self: flex-start;width: 50%;}#sk-container-id-2 div.sk-parallel-item:only-child::after {width: 0;}#sk-container-id-2 div.sk-dashed-wrapped {border: 1px dashed gray;margin: 0 0.4em 0.5em 0.4em;box-sizing: border-box;padding-bottom: 0.4em;background-color: white;}#sk-container-id-2 div.sk-label label {font-family: monospace;font-weight: bold;display: inline-block;line-height: 1.2em;}#sk-container-id-2 div.sk-label-container {text-align: center;}#sk-container-id-2 div.sk-container {/* jupyter's `normalize.less` sets `[hidden] { display: none; }` but bootstrap.min.css set `[hidden] { display: none !important; }` so we also need the `!important` here to be able to override the default hidden behavior on the sphinx rendered scikit-learn.org. See: https://github.com/scikit-learn/scikit-learn/issues/21755 */display: inline-block !important;position: relative;}#sk-container-id-2 div.sk-text-repr-fallback {display: none;}</style><div id=\"sk-container-id-2\" class=\"sk-top-container\"><div class=\"sk-text-repr-fallback\"><pre>LinearSVC(C=0.01, class_weight=&#x27;balanced&#x27;)</pre><b>In a Jupyter environment, please rerun this cell to show the HTML representation or trust the notebook. <br />On GitHub, the HTML representation is unable to render, please try loading this page with nbviewer.org.</b></div><div class=\"sk-container\" hidden><div class=\"sk-item\"><div class=\"sk-estimator sk-toggleable\"><input class=\"sk-toggleable__control sk-hidden--visually\" id=\"sk-estimator-id-2\" type=\"checkbox\" checked><label for=\"sk-estimator-id-2\" class=\"sk-toggleable__label sk-toggleable__label-arrow\">LinearSVC</label><div class=\"sk-toggleable__content\"><pre>LinearSVC(C=0.01, class_weight=&#x27;balanced&#x27;)</pre></div></div></div></div></div>"
      ],
      "text/plain": [
       "LinearSVC(C=0.01, class_weight='balanced')"
      ]
     },
     "execution_count": 17,
     "metadata": {},
     "output_type": "execute_result"
    }
   ],
   "source": [
    "# Linear SVC model\n",
    "x_train_final=tfidf_vectorizer.transform(df['review_body'])\n",
    "y_train_final=df['star_rating']\n",
    "final_svc=LinearSVC(C=0.01, multi_class='ovr',class_weight='balanced')\n",
    "final_svc.fit(x_train_final,y_train_final)"
   ]
  },
  {
   "cell_type": "code",
   "execution_count": 19,
   "metadata": {
    "gather": {
     "logged": 1691699170686
    },
    "jupyter": {
     "outputs_hidden": false
    },
    "nteract": {
     "transient": {
      "deleting": false
     }
    }
   },
   "outputs": [],
   "source": [
    "# Save the trained SVC model and vectorizer\n",
    "pickle.dump(tfidf_vectorizer, open(\"models/final_tfidf.pkl\",\"wb\"))\n",
    "pickle.dump(final_svc, open(\"models/final_model.pkl\", \"wb\"))"
   ]
  },
  {
   "cell_type": "markdown",
   "metadata": {
    "id": "6_9Nurt-VgkL"
   },
   "source": [
    "Once you have identified your best model, you can fit it on the entire dataset and save all relevant data processing objects to files in a `models` directory, so that you can use it as your deployment directory in the next part.\n",
    "\n",
    "**Notes**:\n",
    "* Your model file names should not contain any space character."
   ]
  },
  {
   "cell_type": "markdown",
   "metadata": {
    "id": "euNySRUChixb"
   },
   "source": [
    "## Part E: Model Deployment\n",
    "\n",
    "Now you will deploy your model to a local endpoint, test it on some sample data, and then deploy the model to a public endpoint -- this is the same process you performed in **Project 6 and 7**. You can follow the steps in the [Model deployment primer](https://nbviewer.jupyter.org/url/clouddatascience.blob.core.windows.net/primers/machine-learning-azure-primer/azure_model_deployment_primer.ipynb). Make sure to pay attention to how it handles custom functions and classes, if you used them in previous steps. Note also that for `myenv.yml`, you should list all the pip packages that you have used in this project, along with their version number."
   ]
  },
  {
   "cell_type": "markdown",
   "metadata": {
    "nteract": {
     "transient": {
      "deleting": false
     }
    }
   },
   "source": [
    "### Deployment specification\n",
    "\n",
    "Our grader will send a POST request to your endpoint, where the JSON content will be structured as follows:\n",
    "\n",
    "```python\n",
    "request_content = \"\"\"{\n",
    "    \"n_reviews\" : 2,\n",
    "    \"reviews\" : [\n",
    "        {\n",
    "            \"marketplace\" : \"US\",\n",
    "            \"customer_id\" : \"20422322\",\n",
    "            \"review_id\" : \"R8MEA6IGAHO0B\",\n",
    "            \"product_id\" : \"B00MC4CED8\",\n",
    "            \"product_parent\" : \"217304173\",\n",
    "            \"product_title\" : \"BlackVue\",\n",
    "            \"product_category\" : \"Mobile_Electronics\",\n",
    "            \"helpful_votes\" : 0,\n",
    "            \"total_votes\" : 0,\n",
    "            \"vine\" : \"N\",\n",
    "            \"verified_purchase\" : \"Y\",\n",
    "            \"review_headline\" : \"Very Happy!\tAs advertised.\",\n",
    "            \"review_body\" : \"Everything works perfectly, I'm happy\",\n",
    "            \"review_date\" : \"2015-08-31\"\n",
    "        },\n",
    "        {\n",
    "            \"marketplace\" : \"US\",\n",
    "            \"customer_id\" : \"15204307\",\n",
    "            \"review_id\" : \"RZGDLDMGMGKLB\",\n",
    "            \"product_id\" : \"B000I3F91O\",\n",
    "            \"product_parent\" : \"90621845\",\n",
    "            \"product_title\" : \"Sangean H205 AM/FM Weather Alert Waterproof\",\n",
    "            \"product_category\" : \"Electronics\",\n",
    "            \"helpful_votes\" : 0,\n",
    "            \"total_votes\" : 0,\n",
    "            \"vine\" : \"N\",\n",
    "            \"verified_purchase\" : \"Y\",\n",
    "            \"review_headline\" : \"Best shower radio I have ever owned\",\n",
    "            \"review_body\" : \"love shower radio own shower radio best one\",\n",
    "            \"review_date\" : \"2014-11-08\"\n",
    "        },\n",
    "    ]\n",
    "}\n",
    "\"\"\"\n",
    "```\n",
    "\n",
    "Here `n_reviews` indicates the number of reviews included in the request, and `reviews` is a list of dictionaries, each having the same schema as a row in the provided dataset (but without the `star_rating` attribute, which is what you need to predict).\n",
    "\n",
    "The expected response is a JSON with the following format:\n",
    "\n",
    "```python\n",
    "response_content = {\n",
    "    \"predictions\" : [2, 3]\n",
    "}\n",
    "```\n",
    "where the key `predictions` maps to a list of predicted labels, one for each input review in `request_content`. Keep in mind that this list should be a standard Python list, not a Numpy array or Pandas series, which are not JSON serializable.\n",
    "\n",
    "**Notes**:\n",
    "* If you have put your custom functions / classes in a separate Python file, for example `my_custom_code.py` in the current directory, this file will be sent to the deployment environment as well. Therefore, you can include `import my_custom_code` in your scoring script.\n",
    "* If you use `nltk` in your data processing, note that the Docker environment used for deployment does not have any NLTK data by default. Therefore, you may need to explicitly download them in your `init` function, for example `nltk.download(\"stopwords\")`. If you use the text processing code from Project 4, refer to the `nltk.download` commands provided at the beginning of the Project 4 notebook."
   ]
  },
  {
   "cell_type": "code",
   "execution_count": null,
   "metadata": {
    "gather": {
     "logged": 1691701204465
    },
    "id": "4yHGBNfpVgkL"
   },
   "outputs": [],
   "source": [
    "## YOUR ENVIRONMENT SETUP CODE HERE ##\n",
    "import azureml.core\n",
    "from azureml.core.workspace import Workspace\n",
    "from azureml.core.model import Model\n",
    "from azureml.core.webservice import AciWebservice\n",
    "from azureml.core.model import InferenceConfig\n",
    "from azureml.core.webservice import Webservice\n",
    "from azureml.core.environment import Environment\n",
    "from azureml.core.webservice import LocalWebservice"
   ]
  },
  {
   "cell_type": "code",
   "execution_count": null,
   "metadata": {
    "gather": {
     "logged": 1691701208224
    },
    "jupyter": {
     "outputs_hidden": false
    },
    "nteract": {
     "transient": {
      "deleting": false
     }
    }
   },
   "outputs": [],
   "source": [
    "ws = Workspace.from_config()\n",
    "print('Workspace name: ' + ws.name, \n",
    "      'Azure region: ' + ws.location, \n",
    "      'Subscription id: ' + ws.subscription_id, \n",
    "      'Resource group: ' + ws.resource_group, sep='\\n')"
   ]
  },
  {
   "cell_type": "code",
   "execution_count": null,
   "metadata": {
    "gather": {
     "logged": 1691701780889
    },
    "jupyter": {
     "outputs_hidden": false
    },
    "nteract": {
     "transient": {
      "deleting": false
     }
    }
   },
   "outputs": [],
   "source": [
    "# register model\n",
    "register_vectorizer_model = Model.register(\n",
    "    workspace = ws, model_path = \"models/final_tfidf.pkl\",\n",
    "    model_name = \"final_vectorizer\",\n",
    "    description = \"A TFIDF model trained on Amazon customer reviews\"\n",
    ")\n",
    "\n",
    "register_sklearn_model = Model.register(\n",
    "    workspace = ws, model_path = \"models/final_model.pkl\",\n",
    "    model_name = \"final_linearsvc\",\n",
    "    description = \"A linear SVC model trained on Amazon customer reviews\"\n",
    ")\n"
   ]
  },
  {
   "cell_type": "code",
   "execution_count": null,
   "metadata": {
    "gather": {
     "logged": 1691687182040
    },
    "id": "aNEoVhXtVgkL"
   },
   "outputs": [],
   "source": [
    "%%writefile ./score.py\n",
    "## YOUR SCORE.PY CODE HERE ##\n",
    "\n",
    "import json, re, pickle\n",
    "from azureml.core.model import Model\n",
    "\n",
    "import nltk\n",
    "from nltk.tokenize import word_tokenize\n",
    "from nltk.corpus import stopwords\n",
    "from nltk.stem import PorterStemmer\n",
    "from nltk.stem import WordNetLemmatizer\n",
    "# from sklearn.feature_extraction.text import TfidfVectorizer\n",
    "# from sklearn.svm import LinearSVC\n",
    "\n",
    "nltk.download(\"stopwords\", quiet = True)\n",
    "nltk.download(\"wordnet\", quiet = True)\n",
    "nltk.download(\"punkt\", quiet = True)\n",
    "\n",
    "def init():\n",
    "    # load model and vectorizer and save them as global variables\n",
    "    global final_model, tfidf_vectorizer\n",
    "\n",
    "    model_dir = Model.get_model_path('final_linearsvc')\n",
    "    vec_dir = Model.get_model_path('final_vectorizer')\n",
    "    \n",
    "    with open(vec_dir,'rb') as f:\n",
    "        tfidf_vectorizer = pickle.load(f)\n",
    "\n",
    "    with open(model_dir,'rb') as f:\n",
    "        final_model = pickle.load(f)\n",
    "\n",
    "def process_text(text):\n",
    "    # Removing HTML tags\n",
    "    clean_text = re.sub(r'<.*?>', '', text)\n",
    "    \n",
    "    # Removing punctuations and special characters\n",
    "    clean_text = re.sub(r'[^\\w\\s]', '', clean_text)\n",
    "    clean_text = clean_text.lower()\n",
    "    \n",
    "    # Tokenizing\n",
    "    tokens = word_tokenize(clean_text)\n",
    "    \n",
    "    # Stemming\n",
    "    stemmer = PorterStemmer()\n",
    "    stemmed_tokens = [stemmer.stem(token) for token in tokens]\n",
    "    \n",
    "    # Lemmatizing\n",
    "    lemmatizer = WordNetLemmatizer()\n",
    "    lemmatized_tokens = [lemmatizer.lemmatize(token) for token in stemmed_tokens]\n",
    "    \n",
    "    # Removing stopwords\n",
    "    stop_words = set(stopwords.words('english'))\n",
    "    filtered_words = [word for word in lemmatized_tokens if word not in stop_words]\n",
    "    \n",
    "    return ' '.join(filtered_words)\n",
    "\n",
    "def run(input_data):\n",
    "    input_json = json.loads(input_data)\n",
    "    reviews = []\n",
    "    for n in range(input_json['n_reviews']): \n",
    "        review = input_json['reviews'][n]['review_body']\n",
    "        reviews.append(review)\n",
    "\n",
    "    processed_reviews = [process_text(review) for review in reviews]\n",
    "    matrix = tfidf_vectorizer.transform(processed_reviews)\n",
    "    predictions = final_model.predict(matrix).tolist()\n",
    "    response_content = {\"predictions\":predictions}\n",
    "    return response_content\n",
    "\n"
   ]
  },
  {
   "cell_type": "code",
   "execution_count": null,
   "metadata": {},
   "outputs": [],
   "source": [
    "cat score.py"
   ]
  },
  {
   "cell_type": "code",
   "execution_count": null,
   "metadata": {
    "gather": {
     "logged": 1691701795773
    },
    "jupyter": {
     "outputs_hidden": false
    },
    "nteract": {
     "transient": {
      "deleting": false
     }
    }
   },
   "outputs": [],
   "source": [
    "from azureml.core.conda_dependencies import CondaDependencies \n",
    "\n",
    "environment_file = CondaDependencies.create(pip_packages=[\n",
    "    'azureml-defaults', 'scikit-learn~=1.3.0','nltk~=3.8.1','pandas'])\n",
    "\n",
    "with open(\"myenv.yml\",\"w\") as f:\n",
    "    f.write(environment_file.serialize_to_string())\n",
    "\n",
    "print(environment_file.serialize_to_string())\n"
   ]
  },
  {
   "cell_type": "code",
   "execution_count": null,
   "metadata": {
    "gather": {
     "logged": 1691701977379
    },
    "jupyter": {
     "outputs_hidden": false
    },
    "nteract": {
     "transient": {
      "deleting": false
     }
    }
   },
   "outputs": [],
   "source": [
    "# create environment variable\n",
    "myenv = Environment.from_conda_specification(name = \"myenv\", file_path = \"myenv.yml\")\n",
    "\n",
    "# provide the scoring script and environment variable to InferenceConfig\n",
    "inference_config = InferenceConfig(source_directory = '.', entry_script = \"score.py\", environment = myenv)\n",
    "\n",
    "# set deployment destination to localhost:8890\n",
    "local_deployment_config = LocalWebservice.deploy_configuration(port = 8890)\n",
    "\n",
    "# create a service instance\n",
    "sklearn_local_service = Model.deploy(\n",
    "    ws, \"sklearn-local-service\",\n",
    "    [register_vectorizer_model, register_sklearn_model], inference_config, \n",
    "    local_deployment_config\n",
    ")\n",
    "\n",
    "sklearn_local_service.wait_for_deployment(True)"
   ]
  },
  {
   "cell_type": "code",
   "execution_count": null,
   "metadata": {
    "gather": {
     "logged": 1691699468669
    },
    "jupyter": {
     "outputs_hidden": false
    },
    "nteract": {
     "transient": {
      "deleting": false
     }
    }
   },
   "outputs": [],
   "source": [
    "sklearn_local_service.reload()\n",
    "sklearn_local_service.wait_for_deployment(True)"
   ]
  },
  {
   "cell_type": "code",
   "execution_count": null,
   "metadata": {
    "gather": {
     "logged": 1691702196204
    },
    "id": "Qi58Zj-uVgkL"
   },
   "outputs": [],
   "source": [
    "example_json = json.dumps({\n",
    "    \"n_reviews\" : 2,\n",
    "    \"reviews\" : [\n",
    "        {\n",
    "            \"marketplace\" : \"US\",\n",
    "            \"customer_id\" : \"20422322\",\n",
    "            \"review_id\" : \"R8MEA6IGAHO0B\",\n",
    "            \"product_id\" : \"B00MC4CED8\",\n",
    "            \"product_parent\" : \"217304173\",\n",
    "            \"product_title\" : \"BlackVue\",\n",
    "            \"product_category\" : \"Mobile_Electronics\",\n",
    "            \"helpful_votes\" : 0,\n",
    "            \"total_votes\" : 0,\n",
    "            \"vine\" : \"N\",\n",
    "            \"verified_purchase\" : \"Y\",\n",
    "            \"review_headline\" : \"Very Happy!    As advertised.\",\n",
    "            \"review_body\" : \"Everything works perfectly, I'm happy\",\n",
    "            \"review_date\" : \"2015-08-31\"\n",
    "        },\n",
    "        {\n",
    "            \"marketplace\" : \"US\",\n",
    "            \"customer_id\" : \"15204307\",\n",
    "            \"review_id\" : \"RZGDLDMGMGKLB\",\n",
    "            \"product_id\" : \"B000I3F91O\",\n",
    "            \"product_parent\" : \"90621845\",\n",
    "            \"product_title\" : \"Sangean H205 AM/FM Weather Alert Waterproof\",\n",
    "            \"product_category\" : \"Electronics\",\n",
    "            \"helpful_votes\" : 0,\n",
    "            \"total_votes\" : 0,\n",
    "            \"vine\" : \"N\",\n",
    "            \"verified_purchase\" : \"Y\",\n",
    "            \"review_headline\" : \"Best shower radio I have ever owned\",\n",
    "            \"review_body\" : \"love shower radio own shower radio best one\",\n",
    "            \"review_date\" : \"2014-11-08\"\n",
    "        },\n",
    "    ]\n",
    "})\n",
    "example_json = bytes(example_json, encoding = \"utf8\")\n",
    "output = sklearn_local_service.run(example_json)\n",
    "print(output)"
   ]
  },
  {
   "cell_type": "markdown",
   "metadata": {
    "id": "p22crZqnVgkM"
   },
   "source": [
    "Once your local service is ready, you can now deploy it to a public endpoint. While creating an `AciWebservice,` you can set `cpu_cores=3.8` and `memory_gb=15` to maximize the processing power in the deployment environment.\n",
    "\n",
    "If Azure complains that the specified specs are too high, you can check the specific upper bounds for your region [here](https://docs.microsoft.com/en-us/azure/container-instances/container-instances-region-availability)."
   ]
  },
  {
   "cell_type": "markdown",
   "metadata": {
    "id": "REfjLvq9VgkM"
   },
   "source": [
    "Once your service has deployed succesfully, save your `scoring_uri` to a text file called `scoring_uri.txt`. This file will be collected by the submitter when you submit your code."
   ]
  },
  {
   "cell_type": "code",
   "execution_count": null,
   "metadata": {
    "id": "PYqPEKQxVgkM"
   },
   "outputs": [],
   "source": [
    "## YOUR SCORING_URI CODE HERE ##\n",
    "# record useful metadata in the tags parameter\n",
    "aci_deployment_config = AciWebservice.deploy_configuration(\n",
    "    cpu_cores=3.8, memory_gb=15, description = 'Public endpoint for Sklearn TF-IDF model',\n",
    "    tags={'data' : 'amazon reviews', 'method' : 'tf-idf', 'framework' : 'sklearn'},\n",
    ")\n",
    "\n",
    "# create a new service instance\n",
    "sklearn_aci_service = Model.deploy(\n",
    "    ws, \"sklearn-aci-service\",\n",
    "    [register_vectorizer_model, register_sklearn_model], inference_config, \n",
    "    aci_deployment_config\n",
    ")\n",
    "\n",
    "sklearn_aci_service.wait_for_deployment(True)"
   ]
  },
  {
   "cell_type": "code",
   "execution_count": null,
   "metadata": {},
   "outputs": [],
   "source": [
    "print(sklearn_aci_service.state)"
   ]
  },
  {
   "cell_type": "code",
   "execution_count": null,
   "metadata": {},
   "outputs": [],
   "source": [
    "## YOUR SCORING_URI CODE HERE ##\n",
    "print(sklearn_aci_service.scoring_uri)\n",
    "with open('scoring_uri.txt', 'w') as f:\n",
    "    f.write(sklearn_aci_service.scoring_uri)\n",
    "    print('Save scoring uri successfully!')"
   ]
  },
  {
   "cell_type": "markdown",
   "metadata": {
    "id": "I53pq_2OVgkM"
   },
   "source": [
    "We provide the code to send some example POST requests to your deployment URI as follows. You can run it to check that your deployed model is working. Our grader will run the same code to communicate with your endpoint:"
   ]
  },
  {
   "cell_type": "code",
   "execution_count": null,
   "metadata": {
    "id": "t4GMSsv6opVp"
   },
   "outputs": [],
   "source": [
    "def ping_endpoint(json_data, uri = None):\n",
    "    if uri is None:\n",
    "        uri = open(\"scoring_uri.txt\", \"r\").read()\n",
    "    headers = {'Content-Type' : 'application/json'}\n",
    "    response = requests.post(uri, json_data, headers = headers)\n",
    "    return response.status_code, response.text"
   ]
  },
  {
   "cell_type": "markdown",
   "metadata": {
    "id": "mTUG7oDwVgkM"
   },
   "source": [
    "Let's test your model on the provided `example_json`. Check that the status code is 200 and the predicted labels are what you expect."
   ]
  },
  {
   "cell_type": "code",
   "execution_count": null,
   "metadata": {
    "id": "uH_AipFOVgkM"
   },
   "outputs": [],
   "source": [
    "# test the deployed model with 2 samples\n",
    "status_code, predicted_labels = ping_endpoint(example_json)\n",
    "print(status_code)\n",
    "print(predicted_labels)"
   ]
  },
  {
   "cell_type": "markdown",
   "metadata": {
    "id": "teXOL4y2VgkM"
   },
   "source": [
    "Now you can test your model on a 5000-row subset of the training dataset. Again check that the status code is 200 and the predict labels are a list of 5000 integers. If you encounter any error, check your `service.get_logs()`. One common issue is that the request times out; in other words, your deployed model takes too long to process the test data and generate predictions. To address this, you would need to optimize your data processing steps and redeploy them. Our grader will also send 5000 rows of test data to your endpoint in one single request.\n",
    "\n",
    "**Notes**:\n",
    "* Azure ACI enforces a one-minute timeout for handling the input request. If your code takes longer than one minute, the endpoint will return a 502 or 504 error."
   ]
  },
  {
   "cell_type": "code",
   "execution_count": null,
   "metadata": {
    "id": "afl6fBArVgkM"
   },
   "outputs": [],
   "source": [
    "from sklearn.metrics import accuracy_score\n",
    "\n",
    "def construct_json_input():\n",
    "    df_training_subset = read_data().sample(n = 5000, random_state = 200)\n",
    "    true_labels = df_training_subset[\"star_rating\"]\n",
    "    training_subset_json = json.dumps({\n",
    "        \"n_reviews\" : len(df_training_subset),\n",
    "        \"reviews\" : df_training_subset.drop(columns = \"star_rating\").to_dict(\"records\")\n",
    "    })\n",
    "    return bytes(training_subset_json, encoding = \"utf8\"), true_labels\n",
    "\n",
    "# test the deployed model with a subset of training data\n",
    "def test_model_deployment():\n",
    "    data, true_labels = construct_json_input()\n",
    "    status_code, response = ping_endpoint(data)\n",
    "    print(\"Status code\", status_code)\n",
    "    predicted_labels = json.loads(response)[\"predictions\"]\n",
    "    print(\"Model accuracy\", accuracy_score(true_labels, predicted_labels))\n",
    "\n",
    "test_model_deployment()"
   ]
  },
  {
   "cell_type": "markdown",
   "metadata": {
    "id": "_dNwj6UKVgkM"
   },
   "source": [
    "## Part F: Follow-up questions\n",
    "Now that you have completed the coding portions, answer the following questions. Write your answers as if you are composing a technical report for your supervisor; limit your responses to **one or two paragraphs** (5-10 sentences per paragraph) in each question.\n",
    "\n",
    "You should write your answers in markdown within this notebook, below the **Your response** line for each question below."
   ]
  },
  {
   "cell_type": "markdown",
   "metadata": {
    "id": "emBajN3xVgkN"
   },
   "source": [
    "**Question 1 (6pts)**: In Part A (Data Cleaning), did you exclude any rows in the dataset? If you did, what are the exclusion criteria and how many rows were excluded? Did you remove or clean any column? Explain in sufficient details so that someone who reads your description could replicate the code from scratch.\n",
    "\n",
    "**Grading rubric**:\n",
    "\n",
    "| Rubric item \t| Score \t|\n",
    "|-\t|-\t|\n",
    "| Describe all the row-based operations, e.g. whether and how you excluded rows \t| 2pts \t|\n",
    "| Describe all the column-based operations, e.g. whether and how you removed or cleaned columns \t| 2pts \t|\n",
    "| Provide sufficiently detailed descriptions that can be used to reconstruct the code \t| 2pts \t|\n",
    "\n",
    "**Your response**:\n",
    "\n",
    "No rows were excluded from the dataset from my operation. If I had more time, I would use the verified purchase column to filter out the reviews which are bad as `N`.Regarding to the columns such as 'marketplace', 'customer_id', 'review_id', 'product_id', 'product_parent', 'product_category', and 'review_date' were removed as they were not needed for the analysis. The `drop` method was used to remove these columns."
   ]
  },
  {
   "cell_type": "markdown",
   "metadata": {
    "id": "FC-S-CTKVgkN"
   },
   "source": [
    "**Question 2 (5pts)**: In Part B (Exploratory Data Analysis), which types of visualization did you employ (e.g., scatter plot, boxplot)? Why did you choose these types? Which columns or relationships between columns did you investigate? Summarize your findings.\n",
    "\n",
    "**Note**: Even if you feel tabular explorations are enough or if you use EDA tools, you should still perform at least one visualization analysis, so that you can respond to this question.\n",
    "\n",
    "**Grading rubric**:\n",
    "\n",
    "| Rubric item \t| Score \t|\n",
    "|-\t|-\t|\n",
    "| List all of the graph types used along with their goal (e.g., “I used violinplot to see the distribution of data in column X,” instead of simply “I used violinplot”) \t| 1pt \t|\n",
    "| List all the columns or relationships between columns that were examined. \t| 2pts \t|\n",
    "| Describe the findings from the exploratory data analysis in layman’s terms, so that a reader not familiar with the dataset or your code can still understand them. \t| 2pts \t|\n",
    "\n",
    "**Your response**:\n",
    "\n",
    "I first worked out the `value_count` of reviews by rating and visualized that with barchart. It showed that the rating count is not balanced.\n",
    "\n",
    "I then chose a boxplot to visualize the distribution of star ratings within the data in order to clearly identify key statistical elements such as the median, quartiles, and any outliers. It showed that the graph is negatively skewed, indicating that most of the data values are concentrated on the higher end of the scale. This could signify a tendency towards higher star ratings.\n",
    "\n",
    "Then I used Scatter Plot to visualize Helpful Votes and Total Votes Relationship to understand the correlation between these two variables. The result of this analysis showed a linear relationship between helpful votes and total votes, suggesting that as the number of total votes increases, the helpful votes tend to increase in a proportional manner.\n",
    "\n"
   ]
  },
  {
   "cell_type": "markdown",
   "metadata": {
    "id": "xiMUtTy5VgkN"
   },
   "source": [
    "**Question 3 (6pts)**: In Part C (Feature Construction), which feature construction method(s) did you employ? Specify the associated parameters (for example, if you used Sklearn's TfIdf, what are your preprocessor, tokenizer and analyzer?).\n",
    "\n",
    "**Grading rubric**:\n",
    "\n",
    "| Rubric item \t| Score \t|\n",
    "|-\t|-\t|\n",
    "| List all of the feature construction steps, along with the state of the dataset before and after each step. \t| 3pts \t|\n",
    "| In each step, specify the input parameters in sufficient details so that the original code can be reconstructed from your descriptions. \t| 3pts \t|\n",
    "\n",
    "**Your response**:\n",
    "\n",
    "In Part C, I implemented Term Frequency - Inverse Document Frequency (TFIDF) Vectorization converted text documents into sparse matrices. I applied a Sklearn TFIDF vectorizer to the training reviews. This method was carried out without a specific preprocessor. Both the tokenizer and analyzer were configured to utilize a string split function. Then I fitted the vectorizer with test reviews, Finally, I applied the entire dataset to fit the vectorizer."
   ]
  },
  {
   "cell_type": "markdown",
   "metadata": {
    "id": "OR_6pZsfVgkN"
   },
   "source": [
    "**Question 4 (5pts)**: In Part D (Model Training and Evaluation), list all the models that you explored. How did you select the best model, or the best combination of models (if you used an ensemble method)? If you used train-test split or cross validation, describe them in detail (e.g., the training portion, the type of cross validation, etc.).\n",
    "\n",
    "**Note**: For model selection procedure, you should report your selection criteria and hyperparameters considered, among other details. Imagine someone has to work off your description and find the exact same model you report as the best.\n",
    "\n",
    "**Grading rubric**:\n",
    "\n",
    "| Rubric item \t| Score \t|\n",
    "|-\t|-\t|\n",
    "| Name at least two explored models.\t| 2pts \t|\n",
    "| Provide sufficiently detailed descriptions of the model selection procedure that can be used to reconstruct the code. \t| 3pts \t|\n",
    "\n",
    "**Your response**:\n",
    "\n",
    "1. Data Splitting: I initially divided the dataset into a training and a test set. I divided the data into training and test sets, with 20% testing reviews and 80% training reviews, at `random state=0`.\n",
    "\n",
    "2. Cross-Validation: I employed 5-fold cross-validation within the training set. This method involved splitting the training set into five 'folds', and the model's performance was averaged over the five iterations.\n",
    "\n",
    "3. Model Exploration:\n",
    "\n",
    "- **Logistic Regression**: I experimented with logistic regression, where I fine-tuned the maximum number of iterations by trying values of 10, 100, and 1000. Through cross-validation, I determined that 100 iterations provided the best average accuracy with reasonably time, resulting in approximately 63% accuracy.\n",
    "- **Support Vector Machine**: For the SVM, I used the RBF kernel with a regularization parameter `C=0.01`.I chose `multi_class=ovr` as there are mutiple classes to predict. I got an average accuracy score higher than 64%. \n",
    "- **K-Nearest Neighbors**: I used the KNN algorithm with the default setting of 5 nearest neighbors. I did not receive satisfactory results, but the model still didn't converge.\n",
    "4. The best model was Linear SVC at `LinearSVC(C=0.01, multi_class='ovr',class_weight=\"balanced\")`\n",
    "\n"
   ]
  },
  {
   "cell_type": "markdown",
   "metadata": {
    "id": "AbkeugsgVgkN"
   },
   "source": [
    "**Question 5 (3pts):** Did you complete Parts A-E in one pass, as an ordered sequence of steps, or was it necessary to revisit some earlier parts of your solution in order to achieve the desired outcome when working on a later part? If you proceeded sequentially, did you perform any data planning to identify the best steps for each part? If you had to revisit some parts of your solution, which part did you revisit most, and why?\n",
    "\n",
    "**Grading rubric**:\n",
    "\n",
    "| Rubric item \t| Score \t|\n",
    "|-\t|-\t|\n",
    "| Mention whether you went through the parts A-E sequentially.\t| 1pt \t|\n",
    "| Describe your data planning if you proceeded sequentially, OR\t| 2pts \t|\n",
    "| Specify the part that you revisited most recently and the reason for doing so. | 2pts |\n",
    "    \n",
    "**Your response**:\n",
    "\n",
    "I completed A-E in order. This is a logically order to preprocess the data,do exploratory data analysis, contract feather vectors, then model training and last deployment. The section I had to visit the most is the model training, because it takes trials and errors to find out the optimal parameters. I had to repeated the preprocessing Part A because I need to get the reviews in the raw form ready to be trained for the models."
   ]
  },
  {
   "cell_type": "markdown",
   "metadata": {
    "id": "fga2t4kpVgkN"
   },
   "source": [
    "**Question 6 (4pts)**: Did you identify any imbalance in the dataset? If you did, describe it here. Which method did you apply to address this imbalance? Describe the state of the dataset after you applied this method; was the identified imbalance mitigated or completely resolved?\n",
    "\n",
    "**Note**: even if your final model did not address the data imbalance issue, you should still implement a method to address it for evaluation purpose, so that you can respond to this question.\n",
    "\n",
    "**Grading rubric**:\n",
    "\n",
    "| Rubric item \t| Score \t|\n",
    "|-\t|-\t|\n",
    "| Describe the imbalance in the dataset quantitatively.\t| 2pts \t|\n",
    "| Describe the steps used to mitigate the imbalance and the state of the dataset after applying these steps.\t| 2pts \t|\n",
    "\n",
    "\n",
    "**Your response**:\n",
    "\n",
    "I've identified an imbalance in the dataset, in the distribution of `star_ratings` from 1 to 5. There were significantly more ratings at the higher end (5), with 53K instances, compared to the lower ratings (e.g., 17K for rating 4 and 14K for rating 1).\n",
    "\n",
    "I've applied stratified k-fold cross-validation to train the model on different splits of the data. This ensured that each fold was a good representative of the overall class distribution, balancing the ratio of the classes. It's hard to definitively state whether the imbalance was completely resolved or just mitigated. Additional resampling techniques such as oversampling the minority classes or undersampling the majority class could be considered if the imbalance still has a substantial impact on model performance.\n",
    "\n",
    "\n",
    "\n",
    "\n",
    "\n",
    "\n"
   ]
  },
  {
   "cell_type": "markdown",
   "metadata": {
    "id": "rwXhrKsGVgkN"
   },
   "source": [
    "**Question 7 (5pts)**: Name two features that are not present in the given dataset but may help improve the accuracy of your models. For each feature, briefly describe how you would go about collecting data for it (e.g., by scraping a particular website, or using a particular API / database). Also explain why you think having that feature would improve your models.\n",
    "\n",
    "**Note**: Here you can assume that all public websites can be scraped.\n",
    "\n",
    "**Grading rubric**:\n",
    "\n",
    "| Rubric item \t| Score \t|\n",
    "|-\t|-\t|\n",
    "| Name the two proposed features that are not present in the dataset. | 1pt \t|\n",
    "| For each of the two features, name a specific data source (e.g., Amazon listing page) that may contain the data for it. | 2pts \t|\n",
    "| Explain how the proposed features would improve your models. | 2pts |\n",
    "\n",
    "**Your response**:\n",
    "\n",
    "1. Customer Demographics Information:\n",
    "\n",
    "How: Demographics information such as age, gender, location, and income level could be collected through user surveys or by integrating with third-party APIs that have access to this information (with user consent).\n",
    "Why: Understanding the demographic information of the customers might help in building more personalized models. For instance, preferences and buying behaviors could be different across different age groups or locations, and including these variables could allow the model to discern patterns that are more nuanced and tailored to specific customer segments.\n",
    "\n",
    "2. Historical Purchase Behavior:\n",
    "\n",
    "How: This information could be obtained from Amazon's internal purchase history database or by tracking users' interactions with the site over time (with proper permissions). If you don't have direct access, you may also use a web scraping tool to collect data on similar products bought together or user purchasing patterns from public profiles.\n",
    "Why: Historical purchase data would allow the model to understand the customer's previous interactions, preferences, and buying habits. By incorporating this context, the model can make more informed predictions and recommendations. For example, understanding that a customer often buys eco-friendly products might influence the model's recommendations or sentiment analysis of a review for an eco-friendly product.\n"
   ]
  },
  {
   "cell_type": "markdown",
   "metadata": {
    "id": "4A7zrdHtVgkU"
   },
   "source": [
    "**Question 8 (2pts)**: Which parts in the entire pipeline took the most development time? If you were to do a similar assignment in the future, how would you reduce the time taken for these parts of the solution?\n",
    "\n",
    "**Grading rubric**:\n",
    "\n",
    "| Rubric item \t| Score \t|\n",
    "|-\t|-\t|\n",
    "| Describe the time-consuming portions of the pipeline and the reasons for them being time-consuming.\t| 1pt \t|\n",
    "| Describe methods to reduce time in the future assignments.\t| 1pt \t|\n",
    "\n",
    "\n",
    "**Your response**:\n",
    "\n",
    "The model training phase took the most development time in this pipeline. Training a machine learning model often involves many iterations to find the optimal hyperparameters, data preprocessing, feature engineering, and so on. These processes can be very time-consuming, especially if the parameter tuning is done manually or randomly.\n",
    "\n",
    "To reduce the time taken for the model training part of the solution in the future, I would implement Grid Search Method which will find the best parameters can automate and streamline the process of tuning hyperparameters. This method systematically searches through a grid of parameter values and allows you to find the optimal combination without the need for random or manual tweaking.\n"
   ]
  },
  {
   "cell_type": "markdown",
   "metadata": {
    "id": "IcCpQfDjVgkU"
   },
   "source": [
    "**Question 9 (4pts)**: Are there differences in the language used in reviews with high ratings and those with low ratings? You can decide your own threshold for high vs. low and compare the review texts between the two groups. For example, did reviews with high ratings tend to contain more positive words, or have greater lengths?\n",
    "\n",
    "**Grading rubric**:\n",
    "\n",
    "| Rubric item \t| Score \t|\n",
    "|-\t|-\t|\n",
    "| Clearly define “low” and ‘high” reviews.\t| 1pt \t|\n",
    "| Clearly characterize one difference between the language used in low and high reviews in layman’s terms.\t| 2pts \t|\n",
    "| Provide some numerical evidence to back up your observation (e.g., count, mean, std). No detailed tables or plots are required. | 1pt |\n",
    "\n",
    "**Your response**:\n",
    "\n",
    "**High reviews** are ones that have ratings of 4 stars or more. **Low reviews** are the ones that have ratings of 2 stars or less. The number of words varies for the high reviews and low reviews.\n",
    "\n",
    "I used `len(review.split())` to count the number of words in each review in the column of `review_body`. Word count is slightly higher for the low rating reviews, which is 68 and lower for high rating reviews, which is 63. The slightly greater length in low reviews might suggest a more detailed expression of dissatisfaction, but the difference is not as pronounced."
   ]
  }
 ],
 "metadata": {
  "celltoolbar": "Tags",
  "colab": {
   "provenance": [],
   "toc_visible": true
  },
  "kernel_info": {
   "name": "python38-azureml"
  },
  "kernelspec": {
   "display_name": "Python 3 (ipykernel)",
   "language": "python",
   "name": "python3"
  },
  "language_info": {
   "codemirror_mode": {
    "name": "ipython",
    "version": 3
   },
   "file_extension": ".py",
   "mimetype": "text/x-python",
   "name": "python",
   "nbconvert_exporter": "python",
   "pygments_lexer": "ipython3",
   "version": "3.9.13"
  },
  "microsoft": {
   "host": {
    "AzureML": {
     "notebookHasBeenCompleted": true
    }
   },
   "ms_spell_check": {
    "ms_spell_check_language": "en"
   }
  },
  "nteract": {
   "version": "nteract-front-end@1.0.0"
  },
  "toc": {
   "base_numbering": 1,
   "nav_menu": {},
   "number_sections": true,
   "sideBar": true,
   "skip_h1_title": true,
   "title_cell": "Table of Contents",
   "title_sidebar": "Contents",
   "toc_cell": true,
   "toc_position": {},
   "toc_section_display": true,
   "toc_window_display": false
  }
 },
 "nbformat": 4,
 "nbformat_minor": 4
}
